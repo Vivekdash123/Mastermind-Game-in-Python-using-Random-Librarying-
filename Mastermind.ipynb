{
 "cells": [
  {
   "cell_type": "code",
   "execution_count": 2,
   "id": "9c50e8d8-e718-4645-a95a-166e4848a6e6",
   "metadata": {},
   "outputs": [
    {
     "name": "stdout",
     "output_type": "stream",
     "text": [
      "Welcome to Mastermind!\n",
      "Guess the 4-digit code. You have 10 attempts.\n"
     ]
    },
    {
     "name": "stdin",
     "output_type": "stream",
     "text": [
      "Enter your guess:  1234\n"
     ]
    },
    {
     "name": "stdout",
     "output_type": "stream",
     "text": [
      "Bulls: 0, Cows: 1\n"
     ]
    },
    {
     "name": "stdin",
     "output_type": "stream",
     "text": [
      "Enter your guess:  2345\n"
     ]
    },
    {
     "name": "stdout",
     "output_type": "stream",
     "text": [
      "Bulls: 0, Cows: 1\n"
     ]
    },
    {
     "name": "stdin",
     "output_type": "stream",
     "text": [
      "Enter your guess:  3678\n"
     ]
    },
    {
     "name": "stdout",
     "output_type": "stream",
     "text": [
      "Bulls: 0, Cows: 1\n"
     ]
    },
    {
     "name": "stdin",
     "output_type": "stream",
     "text": [
      "Enter your guess:  7890\n"
     ]
    },
    {
     "name": "stdout",
     "output_type": "stream",
     "text": [
      "Bulls: 1, Cows: 1\n"
     ]
    },
    {
     "name": "stdin",
     "output_type": "stream",
     "text": [
      "Enter your guess:  0987\n"
     ]
    },
    {
     "name": "stdout",
     "output_type": "stream",
     "text": [
      "Bulls: 0, Cows: 2\n"
     ]
    },
    {
     "name": "stdin",
     "output_type": "stream",
     "text": [
      "Enter your guess:  8901\n"
     ]
    },
    {
     "name": "stdout",
     "output_type": "stream",
     "text": [
      "Bulls: 1, Cows: 1\n"
     ]
    },
    {
     "name": "stdin",
     "output_type": "stream",
     "text": [
      "Enter your guess:  9012\n"
     ]
    },
    {
     "name": "stdout",
     "output_type": "stream",
     "text": [
      "Bulls: 1, Cows: 1\n"
     ]
    },
    {
     "name": "stdin",
     "output_type": "stream",
     "text": [
      "Enter your guess:  9000\n"
     ]
    },
    {
     "name": "stdout",
     "output_type": "stream",
     "text": [
      "Bulls: 1, Cows: 2\n"
     ]
    },
    {
     "name": "stdin",
     "output_type": "stream",
     "text": [
      "Enter your guess:  0000\n"
     ]
    },
    {
     "name": "stdout",
     "output_type": "stream",
     "text": [
      "Bulls: 1, Cows: 3\n"
     ]
    },
    {
     "name": "stdin",
     "output_type": "stream",
     "text": [
      "Enter your guess:  0011\n"
     ]
    },
    {
     "name": "stdout",
     "output_type": "stream",
     "text": [
      "Bulls: 2, Cows: 2\n",
      "Game Over! The code was: 7051\n"
     ]
    }
   ],
   "source": [
    "import random\n",
    "\n",
    "# Function to generate a random 4-digit code\n",
    "def generate_code():\n",
    "   return [random.randint(0, 9) for _ in range(4)]\n",
    "\n",
    "# Function to compare the guess with the code\n",
    "def check_guess(code, guess):\n",
    "   bulls = sum([1 for i in range(4) if code[i] == guess[i]])\n",
    "   cows = sum([1 for i in range(4) if guess[i] in code and code[i] != guess[i]])\n",
    "   return bulls, cows\n",
    "\n",
    "# Main game loop\n",
    "def mastermind_basic():\n",
    "   code = generate_code()\n",
    "   attempts = 10\n",
    "   print(\"Welcome to Mastermind!\")\n",
    "   print(\"Guess the 4-digit code. You have 10 attempts.\")\n",
    "\n",
    "   while attempts > 0:\n",
    "      guess = list(map(int, input(\"Enter your guess: \").strip()))\n",
    "      bulls, cows = check_guess(code, guess)\n",
    "      print(f\"Bulls: {bulls}, Cows: {cows}\")\n",
    "\n",
    "      if bulls == 4:\n",
    "         print(\"Congratulations! You've cracked the code!\")\n",
    "         break\n",
    "      attempts -= 1\n",
    "\n",
    "      if attempts == 0:\n",
    "         print(f\"Game Over! The code was: {''.join(map(str, code))}\")\n",
    "\n",
    "# Run the basic game\n",
    "mastermind_basic()"
   ]
  }
 ],
 "metadata": {
  "kernelspec": {
   "display_name": "Python 3 (ipykernel)",
   "language": "python",
   "name": "python3"
  },
  "language_info": {
   "codemirror_mode": {
    "name": "ipython",
    "version": 3
   },
   "file_extension": ".py",
   "mimetype": "text/x-python",
   "name": "python",
   "nbconvert_exporter": "python",
   "pygments_lexer": "ipython3",
   "version": "3.12.3"
  }
 },
 "nbformat": 4,
 "nbformat_minor": 5
}
